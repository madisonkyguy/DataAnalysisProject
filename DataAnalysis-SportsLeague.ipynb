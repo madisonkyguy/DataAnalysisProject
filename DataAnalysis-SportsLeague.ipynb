{
 "cells": [
  {
   "cell_type": "code",
   "execution_count": 41,
   "metadata": {},
   "outputs": [],
   "source": [
    "# what sport has the highest average salaries\n",
    "# The datasource is path = kagglehub.dataset_download(\"bhadramohit/worlds-richest-sports-leagues-dataset\") this is located in Kaggle and will help answer the question by pulling what each leagues viewership is based on specific geographical regions"
   ]
  },
  {
   "cell_type": "code",
   "execution_count": 42,
   "metadata": {},
   "outputs": [],
   "source": [
    "import pandas as pd\n",
    "import matplotlib.pyplot as plt"
   ]
  },
  {
   "cell_type": "code",
   "execution_count": 43,
   "metadata": {},
   "outputs": [
    {
     "name": "stdout",
     "output_type": "stream",
     "text": [
      "Requirement already satisfied: pandas in c:\\users\\kcoll\\appdata\\local\\programs\\python\\python313\\lib\\site-packages (2.2.3)\n",
      "Requirement already satisfied: numpy>=1.26.0 in c:\\users\\kcoll\\appdata\\local\\programs\\python\\python313\\lib\\site-packages (from pandas) (2.1.3)\n",
      "Requirement already satisfied: python-dateutil>=2.8.2 in c:\\users\\kcoll\\appdata\\local\\programs\\python\\python313\\lib\\site-packages (from pandas) (2.9.0.post0)\n",
      "Requirement already satisfied: pytz>=2020.1 in c:\\users\\kcoll\\appdata\\local\\programs\\python\\python313\\lib\\site-packages (from pandas) (2024.2)\n",
      "Requirement already satisfied: tzdata>=2022.7 in c:\\users\\kcoll\\appdata\\local\\programs\\python\\python313\\lib\\site-packages (from pandas) (2024.2)\n",
      "Requirement already satisfied: six>=1.5 in c:\\users\\kcoll\\appdata\\local\\programs\\python\\python313\\lib\\site-packages (from python-dateutil>=2.8.2->pandas) (1.16.0)\n"
     ]
    }
   ],
   "source": [
    "!pip install pandas\n",
    "\n",
    "import pandas as pd\n"
   ]
  },
  {
   "cell_type": "code",
   "execution_count": 44,
   "metadata": {},
   "outputs": [
    {
     "name": "stdout",
     "output_type": "stream",
     "text": [
      "  League ID     League Name  Country              Sport  Revenue (USD)  \\\n",
      "0      L001  Premier League  England           Football   5.275330e+09   \n",
      "1      L002         Serie A    India  American Football   7.088640e+09   \n",
      "2      L003             IPL  England  American Football   7.930520e+09   \n",
      "3      L004         La Liga    Spain  American Football   4.972890e+09   \n",
      "4      L005         Serie A    Italy         Basketball   6.265740e+09   \n",
      "\n",
      "   Average Player Salary (USD)             Top Team  Total Teams  \\\n",
      "0                   12080000.0            Liverpool           16   \n",
      "1                    6730000.0          Inter Milan           13   \n",
      "2                   14360000.0  Chennai Super Kings           13   \n",
      "3                   13720000.0      Atletico Madrid           22   \n",
      "4                    7450000.0             Juventus           16   \n",
      "\n",
      "   Founded Year  Viewership  \n",
      "0          1886      485.90  \n",
      "1          1977      135.01  \n",
      "2          1979      157.49  \n",
      "3          1999      245.71  \n",
      "4          1963       52.83  \n"
     ]
    }
   ],
   "source": [
    "df = pd.read_csv('c:/Users/kcoll/Documents/projects/DataAnalysisProject/top_expensive_leagues.csv')\n",
    "\n",
    "print(df.head())"
   ]
  },
  {
   "cell_type": "code",
   "execution_count": 45,
   "metadata": {},
   "outputs": [
    {
     "name": "stdout",
     "output_type": "stream",
     "text": [
      "Index(['League ID', 'League Name', 'Country', 'Sport', 'Revenue (USD)',\n",
      "       'Average Player Salary (USD)', 'Top Team', 'Total Teams',\n",
      "       'Founded Year', 'Viewership'],\n",
      "      dtype='object')\n"
     ]
    }
   ],
   "source": [
    "print(df.columns)"
   ]
  },
  {
   "cell_type": "code",
   "execution_count": 46,
   "metadata": {},
   "outputs": [
    {
     "name": "stdout",
     "output_type": "stream",
     "text": [
      "                 Sport  Revenue (USD)  Average Player Salary (USD)  Viewership\n",
      "0             Football   5.275330e+09                   12080000.0      485.90\n",
      "1    American Football   7.088640e+09                    6730000.0      135.01\n",
      "2    American Football   7.930520e+09                   14360000.0      157.49\n",
      "3    American Football   4.972890e+09                   13720000.0      245.71\n",
      "4           Basketball   6.265740e+09                    7450000.0       52.83\n",
      "..                 ...            ...                          ...         ...\n",
      "695           Football   2.280400e+09                    2970000.0      159.88\n",
      "696            Cricket   6.945200e+08                   12130000.0      194.31\n",
      "697           Football   5.251210e+09                    4780000.0       79.36\n",
      "698  American Football   5.898850e+09                   11020000.0      238.50\n",
      "699           Football   2.865280e+09                    2110000.0      322.22\n",
      "\n",
      "[700 rows x 4 columns]\n"
     ]
    }
   ],
   "source": [
    "df.drop(columns=['Country', 'League Name', 'Total Teams', 'Founded Year', 'League ID', 'Top Team'], inplace=True)\n",
    "print (df)"
   ]
  },
  {
   "cell_type": "code",
   "execution_count": 47,
   "metadata": {},
   "outputs": [],
   "source": [
    "#Based on the data in the data set I don't see anything missing so I feel the best choice is to leave it as is rather than drop or replace"
   ]
  },
  {
   "cell_type": "code",
   "execution_count": 48,
   "metadata": {},
   "outputs": [
    {
     "name": "stdout",
     "output_type": "stream",
     "text": [
      "                 Sport  Revenue (USD)  Average Player Salary (USD)  Viewership\n",
      "0             Football   5.275330e+09                   12080000.0      485.90\n",
      "1    American Football   7.088640e+09                    6730000.0      135.01\n",
      "2    American Football   7.930520e+09                   14360000.0      157.49\n",
      "3    American Football   4.972890e+09                   13720000.0      245.71\n",
      "4           Basketball   6.265740e+09                    7450000.0       52.83\n",
      "..                 ...            ...                          ...         ...\n",
      "695           Football   2.280400e+09                    2970000.0      159.88\n",
      "696            Cricket   6.945200e+08                   12130000.0      194.31\n",
      "697           Football   5.251210e+09                    4780000.0       79.36\n",
      "698  American Football   5.898850e+09                   11020000.0      238.50\n",
      "699           Football   2.865280e+09                    2110000.0      322.22\n",
      "\n",
      "[700 rows x 4 columns]\n"
     ]
    }
   ],
   "source": [
    "df['Revenue (USD)'] = df['Revenue (USD)'].round()\n",
    "print(df)"
   ]
  },
  {
   "cell_type": "code",
   "execution_count": null,
   "metadata": {},
   "outputs": [],
   "source": []
  },
  {
   "cell_type": "code",
   "execution_count": 49,
   "metadata": {},
   "outputs": [],
   "source": [
    "#Converted the Revenue and Average Player Salary to whole Dollars"
   ]
  },
  {
   "cell_type": "code",
   "execution_count": 50,
   "metadata": {},
   "outputs": [
    {
     "name": "stdout",
     "output_type": "stream",
     "text": [
      "                 Sport  Revenue (USD)  Average Player Salary (USD)  Viewership\n",
      "0             Football   5.275330e+09                   12080000.0      485.90\n",
      "1    American Football   7.088640e+09                    6730000.0      135.01\n",
      "2    American Football   7.930520e+09                   14360000.0      157.49\n",
      "3    American Football   4.972890e+09                   13720000.0      245.71\n",
      "4           Basketball   6.265740e+09                    7450000.0       52.83\n",
      "..                 ...            ...                          ...         ...\n",
      "695           Football   2.280400e+09                    2970000.0      159.88\n",
      "696            Cricket   6.945200e+08                   12130000.0      194.31\n",
      "697           Football   5.251210e+09                    4780000.0       79.36\n",
      "698  American Football   5.898850e+09                   11020000.0      238.50\n",
      "699           Football   2.865280e+09                    2110000.0      322.22\n",
      "\n",
      "[700 rows x 4 columns]\n"
     ]
    }
   ],
   "source": [
    "df['Average Player Salary (USD)'] = df['Average Player Salary (USD)'].round()\n",
    "print(df)"
   ]
  },
  {
   "cell_type": "code",
   "execution_count": 51,
   "metadata": {},
   "outputs": [
    {
     "name": "stdout",
     "output_type": "stream",
     "text": [
      "                 Sport  Revenue (USD)  Average Player Salary (USD)  \\\n",
      "0             Football   5.275330e+09                   12080000.0   \n",
      "1    American Football   7.088640e+09                    6730000.0   \n",
      "2    American Football   7.930520e+09                   14360000.0   \n",
      "3    American Football   4.972890e+09                   13720000.0   \n",
      "4           Basketball   6.265740e+09                    7450000.0   \n",
      "..                 ...            ...                          ...   \n",
      "695           Football   2.280400e+09                    2970000.0   \n",
      "696            Cricket   6.945200e+08                   12130000.0   \n",
      "697           Football   5.251210e+09                    4780000.0   \n",
      "698  American Football   5.898850e+09                   11020000.0   \n",
      "699           Football   2.865280e+09                    2110000.0   \n",
      "\n",
      "     Viewership  Salary Percentage  \n",
      "0        485.90           0.228990  \n",
      "1        135.01           0.094941  \n",
      "2        157.49           0.181073  \n",
      "3        245.71           0.275896  \n",
      "4         52.83           0.118901  \n",
      "..          ...                ...  \n",
      "695      159.88           0.130240  \n",
      "696      194.31           1.746530  \n",
      "697       79.36           0.091027  \n",
      "698      238.50           0.186816  \n",
      "699      322.22           0.073640  \n",
      "\n",
      "[700 rows x 5 columns]\n"
     ]
    }
   ],
   "source": [
    "df['Salary Percentage'] = (df['Average Player Salary (USD)'] / df['Revenue (USD)']) * 100\n",
    "print(df)"
   ]
  },
  {
   "cell_type": "code",
   "execution_count": 52,
   "metadata": {},
   "outputs": [],
   "source": [
    "#This was to calculate the percentage of Average Player salary of the overall Revenue for each league"
   ]
  },
  {
   "cell_type": "code",
   "execution_count": 53,
   "metadata": {},
   "outputs": [
    {
     "name": "stdout",
     "output_type": "stream",
     "text": [
      "Mean Average Player Salary: 7900442.857142857\n",
      "Median Average Player Salary: 7835000.0\n",
      "Max Average Player Salary: 14960000.0\n",
      "Min Average Player Salary: 1010000.0\n"
     ]
    }
   ],
   "source": [
    "mean_salary = df['Average Player Salary (USD)'].mean()\n",
    "median_salary = df['Average Player Salary (USD)'].median()\n",
    "max_salary = df['Average Player Salary (USD)'].max()\n",
    "min_salary = df['Average Player Salary (USD)'].min()\n",
    "\n",
    "print(f\"Mean Average Player Salary: {mean_salary}\")\n",
    "print(f\"Median Average Player Salary: {median_salary}\")\n",
    "print(f\"Max Average Player Salary: {max_salary}\")\n",
    "print(f\"Min Average Player Salary: {min_salary}\")"
   ]
  },
  {
   "cell_type": "code",
   "execution_count": 54,
   "metadata": {},
   "outputs": [],
   "source": [
    "#I did the summary stats on the Average player salary for the leagues"
   ]
  },
  {
   "cell_type": "code",
   "execution_count": 55,
   "metadata": {},
   "outputs": [
    {
     "name": "stdout",
     "output_type": "stream",
     "text": [
      "Requirement already satisfied: matplotlib in c:\\users\\kcoll\\appdata\\local\\programs\\python\\python313\\lib\\site-packages (3.9.3)Note: you may need to restart the kernel to use updated packages.\n",
      "\n",
      "Requirement already satisfied: contourpy>=1.0.1 in c:\\users\\kcoll\\appdata\\local\\programs\\python\\python313\\lib\\site-packages (from matplotlib) (1.3.1)\n",
      "Requirement already satisfied: cycler>=0.10 in c:\\users\\kcoll\\appdata\\local\\programs\\python\\python313\\lib\\site-packages (from matplotlib) (0.12.1)\n",
      "Requirement already satisfied: fonttools>=4.22.0 in c:\\users\\kcoll\\appdata\\local\\programs\\python\\python313\\lib\\site-packages (from matplotlib) (4.55.1)\n",
      "Requirement already satisfied: kiwisolver>=1.3.1 in c:\\users\\kcoll\\appdata\\local\\programs\\python\\python313\\lib\\site-packages (from matplotlib) (1.4.7)\n",
      "Requirement already satisfied: numpy>=1.23 in c:\\users\\kcoll\\appdata\\local\\programs\\python\\python313\\lib\\site-packages (from matplotlib) (2.1.3)\n",
      "Requirement already satisfied: packaging>=20.0 in c:\\users\\kcoll\\appdata\\local\\programs\\python\\python313\\lib\\site-packages (from matplotlib) (24.1)\n",
      "Requirement already satisfied: pillow>=8 in c:\\users\\kcoll\\appdata\\local\\programs\\python\\python313\\lib\\site-packages (from matplotlib) (11.0.0)\n",
      "Requirement already satisfied: pyparsing>=2.3.1 in c:\\users\\kcoll\\appdata\\local\\programs\\python\\python313\\lib\\site-packages (from matplotlib) (3.2.0)\n",
      "Requirement already satisfied: python-dateutil>=2.7 in c:\\users\\kcoll\\appdata\\local\\programs\\python\\python313\\lib\\site-packages (from matplotlib) (2.9.0.post0)\n",
      "Requirement already satisfied: six>=1.5 in c:\\users\\kcoll\\appdata\\local\\programs\\python\\python313\\lib\\site-packages (from python-dateutil>=2.7->matplotlib) (1.16.0)\n"
     ]
    }
   ],
   "source": [
    "pip install matplotlib"
   ]
  },
  {
   "cell_type": "code",
   "execution_count": 56,
   "metadata": {},
   "outputs": [
    {
     "name": "stdout",
     "output_type": "stream",
     "text": [
      "0      12080000.0\n",
      "1       6730000.0\n",
      "2      14360000.0\n",
      "3      13720000.0\n",
      "4       7450000.0\n",
      "          ...    \n",
      "695     2970000.0\n",
      "696    12130000.0\n",
      "697     4780000.0\n",
      "698    11020000.0\n",
      "699     2110000.0\n",
      "Name: Salary, Length: 700, dtype: float64\n"
     ]
    },
    {
     "data": {
      "image/png": "[encoded data removed]",
      "text/plain": [
       "<Figure size 1600x800 with 1 Axes>"
      ]
     },
     "metadata": {},
     "output_type": "display_data"
    }
   ],
   "source": [
    "\n",
    "\n",
    "df['Salary'] = df['Average Player Salary (USD)'].replace({',': ''}, regex=True).astype(float)\n",
    "\n",
    "\n",
    "print(df['Salary'])\n",
    "\n",
    "\n",
    "\n",
    "df.plot(kind='scatter', x='Sport', y='Average Player Salary (USD)', color='Red', figsize=(16, 8))\n",
    "plt.title('League Salaries')\n",
    "plt.xlabel('Sport')\n",
    "plt.ylabel('Average Player Salary (USD)')\n",
    "plt.show()"
   ]
  },
  {
   "cell_type": "code",
   "execution_count": 57,
   "metadata": {},
   "outputs": [],
   "source": [
    "#Interestingly based on the scatter plot graph above, I discovered that all of the sports looked at were really pretty close when it came to their average salaries in their respective sport.  When you look at the graph above, it shows that Soccer(football) has the highest average salaries but only slightly higher than Basketball.  I was very surprised to see American Football as having the lowest average salaries"
   ]
  },
  {
   "cell_type": "code",
   "execution_count": 58,
   "metadata": {},
   "outputs": [],
   "source": [
    "#In conclusion, it seems that if you wanted to make the highest average salary, an athlete would be best suited to pursue a career in Footbal(soccer).  If you wish to do further analysis you could probably what the viewership is for each of the major leages in each sport.  Then you could correlate what a larger viewership could be as a driver for a higher average salary."
   ]
  }
 ],
 "metadata": {
  "kernelspec": {
   "display_name": "Python 3",
   "language": "python",
   "name": "python3"
  },
  "language_info": {
   "codemirror_mode": {
    "name": "ipython",
    "version": 3
   },
   "file_extension": ".py",
   "mimetype": "text/x-python",
   "name": "python",
   "nbconvert_exporter": "python",
   "pygments_lexer": "ipython3",
   "version": "3.13.0"
  }
 },
 "nbformat": 4,
 "nbformat_minor": 2
}
